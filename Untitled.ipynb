{
 "cells": [
  {
   "cell_type": "code",
   "execution_count": 1,
   "id": "7ae91a38",
   "metadata": {},
   "outputs": [
    {
     "name": "stdout",
     "output_type": "stream",
     "text": [
      "Text without Marathi punctuation: वर्तमान गटामध्ये आपलं स्वप्न पूर्ण होणार आहे आपलं असा परिपूर्ण समुदाय तयार करण्यासाठी आपण सर्वांचं सहयोग कडेच कायम करावं लागेल\n"
     ]
    }
   ],
   "source": [
    "import re\n",
    "\n",
    "# Function to remove Marathi punctuation\n",
    "def remove_marathi_punctuation(text):\n",
    "    marathi_punctuation = '।‘’!\"#$%&\\'()*+,-./:;<=>?@[\\\\]^_`{|}~'\n",
    "    # We may can extend this list based on your specific requirements\n",
    "    \n",
    "    # Regular expression pattern to match Marathi punctuation\n",
    "    pattern = '[' + re.escape(marathi_punctuation) + ']'\n",
    "    \n",
    "    # Remove Marathi punctuation using the pattern\n",
    "    text_without_punctuation = re.sub(pattern, '', text)\n",
    "    \n",
    "    return text_without_punctuation\n",
    "\n",
    "\n",
    "text_with_punctuation = \"वर्तमान गटामध्ये आपलं स्वप्न पूर्ण होणार आहे. आपलं असा परिपूर्ण समुदाय तयार करण्यासाठी, आपण सर्वांचं सहयोग कडेच कायम करावं लागेल.\"\n",
    "\n",
    "text_without_punctuation = remove_marathi_punctuation(text_with_punctuation)\n",
    "print(\"Text without Marathi punctuation:\", text_without_punctuation)\n"
   ]
  },
  {
   "cell_type": "code",
   "execution_count": 2,
   "id": "fd125dd3",
   "metadata": {},
   "outputs": [
    {
     "data": {
      "text/plain": [
       "['आहे',\n",
       " 'या ',\n",
       " 'आणि',\n",
       " 'व ',\n",
       " 'नाही  ',\n",
       " 'आहेत ',\n",
       " 'यानी ',\n",
       " 'हे ',\n",
       " 'तर',\n",
       " 'ते ',\n",
       " 'असे',\n",
       " 'होते',\n",
       " 'केली ',\n",
       " 'हा ',\n",
       " 'ही ',\n",
       " 'पण ',\n",
       " 'करणयात ',\n",
       " 'काही',\n",
       " 'केले',\n",
       " 'एक ',\n",
       " 'केला ',\n",
       " 'अशी',\n",
       " 'मात्र  ',\n",
       " 'त्यानी ',\n",
       " 'सुरू',\n",
       " 'करून ',\n",
       " 'होती',\n",
       " 'असून ',\n",
       " 'आले ',\n",
       " 'त्यामुळे ',\n",
       " 'झाली',\n",
       " 'होता ',\n",
       " 'दोन ',\n",
       " 'झाले',\n",
       " 'मुबी ',\n",
       " 'होत ',\n",
       " 'त्या ',\n",
       " 'आता ',\n",
       " 'असा ',\n",
       " 'याच्या ',\n",
       " 'त्याच्या',\n",
       " 'ता',\n",
       " 'आली ',\n",
       " 'की',\n",
       " 'पम',\n",
       " 'तो',\n",
       " 'झाला',\n",
       " 'त्री',\n",
       " 'तरी',\n",
       " 'म्हणून',\n",
       " 'त्याना',\n",
       " 'अनेक',\n",
       " 'काम',\n",
       " 'माहिती',\n",
       " 'हजार',\n",
       " 'सागित्ले',\n",
       " 'दिली',\n",
       " 'आला',\n",
       " 'आज',\n",
       " 'ती ',\n",
       " 'तसेच',\n",
       " 'एका',\n",
       " 'याची',\n",
       " 'येथील',\n",
       " 'सर्व',\n",
       " 'न',\n",
       " 'डॉ',\n",
       " 'तीन ',\n",
       " 'येथे',\n",
       " 'पाटील',\n",
       " 'असलयाचे',\n",
       " 'त्याची',\n",
       " 'काय',\n",
       " 'आपल्या',\n",
       " 'म्हणजे',\n",
       " 'याना',\n",
       " 'म्हणाले',\n",
       " 'त्याचा',\n",
       " 'असलेल्या',\n",
       " 'मी',\n",
       " 'गेल्या',\n",
       " 'याचा',\n",
       " 'येत',\n",
       " 'म',\n",
       " 'लाख ',\n",
       " 'कमी',\n",
       " 'जात\\t',\n",
       " 'टा',\n",
       " 'होणार',\n",
       " 'किवा',\n",
       " 'का',\n",
       " 'अधिक',\n",
       " 'घेऊन      ',\n",
       " 'परयतन',\n",
       " 'कोटी',\n",
       " 'झालेल्या',\n",
       " 'निर्ण्य',\n",
       " 'येणार',\n",
       " 'व्यकत ']"
      ]
     },
     "execution_count": 2,
     "metadata": {},
     "output_type": "execute_result"
    }
   ],
   "source": [
    "import pandas as pd\n",
    "\n",
    "# Accessing the File (contain the list of stopwords) from the system\n",
    "stopwords_data = \"D:\\Codes\\Final Project\\marathiST.txt\"\n",
    "\n",
    "# Reading the Text File\n",
    "stp_data = pd.read_csv(stopwords_data, header=None)\n",
    "\n",
    "# Converting the Dataframe into an Single List \n",
    "list_of_stp_words = stp_data .values.flatten().tolist()\n",
    "\n",
    "\n",
    "# list_of_stp_words\n",
    "list_of_stp_words"
   ]
  },
  {
   "cell_type": "code",
   "execution_count": 3,
   "id": "33b2a5f9",
   "metadata": {},
   "outputs": [
    {
     "name": "stdout",
     "output_type": "stream",
     "text": [
      "Text without stopwords and Punctuation: वर्तमान गटामध्ये आपलं स्वप्न पूर्ण आपलं असा परिपूर्ण समुदाय तयार करण्यासाठी आपण सर्वांचं सहयोग कडेच कायम करावं लागेल\n"
     ]
    }
   ],
   "source": [
    "from nltk.tokenize import word_tokenize\n",
    "\n",
    "# Function to remove the Marathi Stopwords\n",
    "def stopword_removal(text):\n",
    "    \n",
    "    #Tokenize the text\n",
    "    words = word_tokenize(text)\n",
    "    \n",
    "    # Removal of the Stopwords \n",
    "    # By using the stopwords in the marathiST.txt file    \n",
    "    filtered_words = [word for word in words if word not in list_of_stp_words]\n",
    "    # In future more stopwords can be added to the file according to the Requirnment\n",
    "    \n",
    "    # Join the filtered text back to obtain an string\n",
    "    text_without_stp_words = ' '.join(filtered_words)\n",
    "    \n",
    "    return text_without_stp_words\n",
    "    \n",
    "\n",
    "text_with_stopwords = text_without_punctuation\n",
    "\n",
    "text_without_stopwords_and_punctuation = stopword_removal(text_with_stopwords)\n",
    "\n",
    "print(\"Text without stopwords and Punctuation:\",text_without_stopwords_and_punctuation)\n"
   ]
  },
  {
   "cell_type": "code",
   "execution_count": 5,
   "id": "286102f2",
   "metadata": {},
   "outputs": [
    {
     "ename": "NameError",
     "evalue": "name 'words' is not defined",
     "output_type": "error",
     "traceback": [
      "\u001b[1;31m---------------------------------------------------------------------------\u001b[0m",
      "\u001b[1;31mNameError\u001b[0m                                 Traceback (most recent call last)",
      "Cell \u001b[1;32mIn[5], line 1\u001b[0m\n\u001b[1;32m----> 1\u001b[0m \u001b[38;5;28mprint\u001b[39m(words)\n",
      "\u001b[1;31mNameError\u001b[0m: name 'words' is not defined"
     ]
    }
   ],
   "source": [
    "print(words)"
   ]
  },
  {
   "cell_type": "code",
   "execution_count": null,
   "id": "d245a3d6",
   "metadata": {},
   "outputs": [],
   "source": []
  },
  {
   "cell_type": "code",
   "execution_count": null,
   "id": "200ee1d5",
   "metadata": {},
   "outputs": [],
   "source": []
  },
  {
   "cell_type": "code",
   "execution_count": null,
   "id": "6410c18a",
   "metadata": {},
   "outputs": [],
   "source": []
  },
  {
   "cell_type": "code",
   "execution_count": null,
   "id": "49b010b3",
   "metadata": {},
   "outputs": [],
   "source": []
  },
  {
   "cell_type": "code",
   "execution_count": null,
   "id": "8e5b46e2",
   "metadata": {},
   "outputs": [],
   "source": []
  },
  {
   "cell_type": "code",
   "execution_count": null,
   "id": "3b6838c5",
   "metadata": {},
   "outputs": [],
   "source": []
  },
  {
   "cell_type": "code",
   "execution_count": 11,
   "id": "ed8e5c37",
   "metadata": {},
   "outputs": [],
   "source": [
    "def readStopWords():\n",
    "    '''\n",
    "    Reads the stopwords from the file\n",
    "    '''\n",
    "    with io.open(\"stopwords.txt\", encoding='utf-8') as textFile:\n",
    "        for line in textFile:\n",
    "            words = line.lower().strip()\n",
    "            stopwords.add(words)\n",
    "        textFile.close()"
   ]
  },
  {
   "cell_type": "code",
   "execution_count": 10,
   "id": "829b6465",
   "metadata": {},
   "outputs": [
    {
     "name": "stderr",
     "output_type": "stream",
     "text": [
      "[nltk_data] Downloading package punkt to\n",
      "[nltk_data]     C:\\Users\\Hardik\\AppData\\Roaming\\nltk_data...\n",
      "[nltk_data]   Package punkt is already up-to-date!\n"
     ]
    }
   ],
   "source": [
    "from __future__ import print_function\n",
    "from __future__ import unicode_literals\n",
    "import collections\n",
    "import copy\n",
    "import io\n",
    "import nltk\n",
    "import re\n",
    "from nltk.tokenize import sent_tokenize\n",
    "nltk.download('punkt')\n",
    "stopwords = set()\n",
    "sentences = []\n",
    "sentences_processing = []\n",
    "sentence_dictionary = collections.defaultdict(dict)\n",
    "stemWords = {}"
   ]
  },
  {
   "cell_type": "code",
   "execution_count": null,
   "id": "4a3d5120",
   "metadata": {},
   "outputs": [],
   "source": [
    "def removeStopWords(wordlist):\n",
    "    '''\n",
    "    Removes the stopwords from the sentences\n",
    "    :param wordlist: list of stopwords\n",
    "    '''\n",
    "    newlist = []\n",
    "    for word in wordlist:\n",
    "        if word not in stopwords:\n",
    "            newlist.append(word)\n",
    "    return newlist\n"
   ]
  },
  {
   "cell_type": "code",
   "execution_count": null,
   "id": "fa5dca73",
   "metadata": {},
   "outputs": [],
   "source": []
  },
  {
   "cell_type": "code",
   "execution_count": null,
   "id": "5ea978e6",
   "metadata": {},
   "outputs": [],
   "source": []
  },
  {
   "cell_type": "code",
   "execution_count": null,
   "id": "23ec07a5",
   "metadata": {},
   "outputs": [],
   "source": []
  },
  {
   "cell_type": "code",
   "execution_count": null,
   "id": "d7b0c071",
   "metadata": {},
   "outputs": [],
   "source": []
  },
  {
   "cell_type": "code",
   "execution_count": null,
   "id": "48296254",
   "metadata": {},
   "outputs": [],
   "source": []
  },
  {
   "cell_type": "code",
   "execution_count": 9,
   "id": "ca9733b2",
   "metadata": {},
   "outputs": [],
   "source": [
    "import io\n",
    "stemWords={}\n",
    "def readStemWords():\n",
    "    '''\n",
    "        Reads the words from the stem words list and transforms the data into usable format\n",
    "     '''\n",
    "    global stemWords\n",
    "    with io.open(\"word_list_marathi.txt\", encoding='utf-8') as textFile:\n",
    "        index = 0\n",
    "        for line in textFile:\n",
    "            line = line.strip()\n",
    "            if len(line) > 0:\n",
    "                index += 1\n",
    "                wordEndIndex = line.find(\">\")\n",
    "                word = line[2:wordEndIndex]\n",
    "                line = line[wordEndIndex + 1:]\n",
    "                baseEndIndex = line.find(\"]\")\n",
    "                base = line[1:baseEndIndex].strip()\n",
    "                line = line[baseEndIndex + 1:]\n",
    "                stem = None\n",
    "                if len(base) >= 0:\n",
    "                    stemEndIndex = base.find('-')\n",
    "                    if stemEndIndex > 0:\n",
    "                        stem = base[:stemEndIndex]\n",
    "\n",
    "                valid = line[line.find(\"(\") + 1: line.find(\")\")].strip()\n",
    "                if valid == \"0\":\n",
    "                    continue\n",
    "                line = line[line.find(\"{\") + 1: line.find(\"}\")].strip()\n",
    "                related = []\n",
    "                if len(line) > 0:\n",
    "                    split = line.split(\",\")\n",
    "                    for s in split:\n",
    "                        related.append(s[:s.find(\"|\")])\n",
    "                if stem == None and len(related) > 0:\n",
    "                    stem = related[0]\n",
    "                if stem != None:\n",
    "                    stemWords[word] = {}\n",
    "                    stemWords[word][\"stem\"] = stem\n",
    "                    stemWords[word][\"related\"] = related\n",
    "readStemWords()\n"
   ]
  },
  {
   "cell_type": "code",
   "execution_count": 63,
   "id": "5871d913",
   "metadata": {},
   "outputs": [
    {
     "ename": "KeyError",
     "evalue": "\"Stemming algorithm 'marathi' not found\"",
     "output_type": "error",
     "traceback": [
      "\u001b[1;31m---------------------------------------------------------------------------\u001b[0m",
      "\u001b[1;31mKeyError\u001b[0m                                  Traceback (most recent call last)",
      "Cell \u001b[1;32mIn[63], line 4\u001b[0m\n\u001b[0;32m      1\u001b[0m \u001b[38;5;28;01mfrom\u001b[39;00m \u001b[38;5;21;01msnowballstemmer\u001b[39;00m \u001b[38;5;28;01mimport\u001b[39;00m stemmer\n\u001b[0;32m      3\u001b[0m \u001b[38;5;66;03m# Create a Marathi stemmer object\u001b[39;00m\n\u001b[1;32m----> 4\u001b[0m marathi_stemmer \u001b[38;5;241m=\u001b[39m stemmer(\u001b[38;5;124m\"\u001b[39m\u001b[38;5;124mmarathi\u001b[39m\u001b[38;5;124m\"\u001b[39m)\n\u001b[0;32m      6\u001b[0m \u001b[38;5;66;03m# Example text\u001b[39;00m\n\u001b[0;32m      7\u001b[0m text \u001b[38;5;241m=\u001b[39m \u001b[38;5;124m\"\u001b[39m\u001b[38;5;124mमला प्रोग्रामिंग आवडतं\u001b[39m\u001b[38;5;124m\"\u001b[39m\n",
      "File \u001b[1;32m~\\anaconda3\\Lib\\site-packages\\snowballstemmer\\__init__.py:83\u001b[0m, in \u001b[0;36mstemmer\u001b[1;34m(lang)\u001b[0m\n\u001b[0;32m     81\u001b[0m     \u001b[38;5;28;01mreturn\u001b[39;00m _languages[lang\u001b[38;5;241m.\u001b[39mlower()]()\n\u001b[0;32m     82\u001b[0m \u001b[38;5;28;01melse\u001b[39;00m:\n\u001b[1;32m---> 83\u001b[0m     \u001b[38;5;28;01mraise\u001b[39;00m \u001b[38;5;167;01mKeyError\u001b[39;00m(\u001b[38;5;124m\"\u001b[39m\u001b[38;5;124mStemming algorithm \u001b[39m\u001b[38;5;124m'\u001b[39m\u001b[38;5;132;01m%s\u001b[39;00m\u001b[38;5;124m'\u001b[39m\u001b[38;5;124m not found\u001b[39m\u001b[38;5;124m\"\u001b[39m \u001b[38;5;241m%\u001b[39m lang)\n",
      "\u001b[1;31mKeyError\u001b[0m: \"Stemming algorithm 'marathi' not found\""
     ]
    }
   ],
   "source": [
    "# from snowballstemmer import stemmer\n",
    "\n",
    "# # Create a Marathi stemmer object\n",
    "# marathi_stemmer = stemmer(\"marathi\")\n",
    "\n",
    "# # Example text\n",
    "# text = \"मला प्रोग्रामिंग आवडतं\"\n",
    "\n",
    "# # Tokenize the text (You may need to install indic-nlp-library for Marathi tokenization)\n",
    "# words = text.split()\n",
    "\n",
    "# # Perform stemming on each word\n",
    "# stemmed_words = []\n",
    "# for word in words:\n",
    "#     stemmed_word = marathi_stemmer.stemWord(word)\n",
    "#     stemmed_words.append(stemmed_word)\n",
    "\n",
    "# # Join the stemmed words back into a sentence\n",
    "# stemmed_text = ' '.join(stemmed_words)\n",
    "\n",
    "# print(\"Original text:\", text)\n",
    "# print(\"Stemmed text:\", stemmed_text)"
   ]
  },
  {
   "cell_type": "code",
   "execution_count": 64,
   "id": "5e07270c",
   "metadata": {},
   "outputs": [
    {
     "ename": "ModuleNotFoundError",
     "evalue": "No module named 'indicnlp.stemmer'",
     "output_type": "error",
     "traceback": [
      "\u001b[1;31m---------------------------------------------------------------------------\u001b[0m",
      "\u001b[1;31mModuleNotFoundError\u001b[0m                       Traceback (most recent call last)",
      "Cell \u001b[1;32mIn[64], line 1\u001b[0m\n\u001b[1;32m----> 1\u001b[0m \u001b[38;5;28;01mfrom\u001b[39;00m \u001b[38;5;21;01mindicnlp\u001b[39;00m\u001b[38;5;21;01m.\u001b[39;00m\u001b[38;5;21;01mstemmer\u001b[39;00m \u001b[38;5;28;01mimport\u001b[39;00m MarathiStemmer\n\u001b[0;32m      3\u001b[0m \u001b[38;5;66;03m# Initialize Marathi stemmer\u001b[39;00m\n\u001b[0;32m      4\u001b[0m stemmer \u001b[38;5;241m=\u001b[39m MarathiStemmer()\n",
      "\u001b[1;31mModuleNotFoundError\u001b[0m: No module named 'indicnlp.stemmer'"
     ]
    }
   ],
   "source": [
    "from indicnlp.stemmer import MarathiStemmer\n",
    "\n",
    "# Initialize Marathi stemmer\n",
    "stemmer = MarathiStemmer()\n",
    "\n",
    "# Example words\n",
    "word_list = [\"भाषेतील\", \"भाषांतर\", \"भाषांतरित\", \"भाषेच्या\"]\n",
    "\n",
    "# Stem each word\n",
    "stem_list = [stemmer.stem(word) for word in word_list]\n",
    "\n",
    "print(stem_list)"
   ]
  },
  {
   "cell_type": "code",
   "execution_count": null,
   "id": "1c0fb97e",
   "metadata": {},
   "outputs": [],
   "source": []
  },
  {
   "cell_type": "code",
   "execution_count": null,
   "id": "5be33b82",
   "metadata": {},
   "outputs": [],
   "source": []
  },
  {
   "cell_type": "code",
   "execution_count": 29,
   "id": "1a2cd931",
   "metadata": {
    "scrolled": false
   },
   "outputs": [
    {
     "name": "stdout",
     "output_type": "stream",
     "text": [
      "Text without Marathi stopwords: वर्तमान गटामध्ये आपलं स्वप्न पूर्ण होणार आहे . आपलं असा परिपूर्ण समुदाय तयार करण्यासाठी , आपण सर्वांचं सहयोग कडेच कायम करावं लागेल .\n"
     ]
    }
   ],
   "source": [
    "# import nltk\n",
    "# from nltk.corpus import stopwords\n",
    "# from nltk.tokenize import word_tokenize\n",
    "\n",
    "# # # Download NLTK resources (one-time operation)\n",
    "# # nltk.download('punkt')\n",
    "# # nltk.download('stopwords')\n",
    "\n",
    "# # Define a function to remove Marathi stopwords\n",
    "# def remove_marathi_stopwords(text):\n",
    "#     # Tokenize the text\n",
    "#     words = word_tokenize(text)\n",
    "    \n",
    "#     # Get Marathi stopwords\n",
    "#     # marathi_stopwords = set(stopwords.words('marathi'))\n",
    "#     marathi_stopwords = set(\"stp_data\")\n",
    "    \n",
    "#     # Remove stopwords\n",
    "#     filtered_words = [word for word in words if word.lower() not in marathi_stopwords]\n",
    "    \n",
    "#     # Join the words back into a string\n",
    "#     text_without_stopwords = ' '.join(filtered_words)\n",
    "    \n",
    "#     return text_without_stopwords\n",
    "\n",
    "# # Example usage:\n",
    "# text_with_stopwords = \"वर्तमान गटामध्ये आपलं स्वप्न पूर्ण होणार आहे. आपलं असा परिपूर्ण समुदाय तयार करण्यासाठी, आपण सर्वांचं सहयोग कडेच कायम करावं लागेल.\"\n",
    "# text_without_stopwords = remove_marathi_stopwords(text_with_stopwords)\n",
    "# print(\"Text without Marathi stopwords:\", text_without_stopwords)"
   ]
  },
  {
   "cell_type": "code",
   "execution_count": null,
   "id": "79518684",
   "metadata": {},
   "outputs": [],
   "source": []
  }
 ],
 "metadata": {
  "kernelspec": {
   "display_name": "Python 3 (ipykernel)",
   "language": "python",
   "name": "python3"
  },
  "language_info": {
   "codemirror_mode": {
    "name": "ipython",
    "version": 3
   },
   "file_extension": ".py",
   "mimetype": "text/x-python",
   "name": "python",
   "nbconvert_exporter": "python",
   "pygments_lexer": "ipython3",
   "version": "3.11.5"
  }
 },
 "nbformat": 4,
 "nbformat_minor": 5
}
