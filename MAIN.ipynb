{
 "cells": [
  {
   "cell_type": "code",
   "execution_count": 1,
   "id": "59f7bcbf",
   "metadata": {},
   "outputs": [
    {
     "name": "stderr",
     "output_type": "stream",
     "text": [
      "[nltk_data] Downloading package punkt to\n",
      "[nltk_data]     C:\\Users\\Hardik\\AppData\\Roaming\\nltk_data...\n",
      "[nltk_data]   Package punkt is already up-to-date!\n"
     ]
    }
   ],
   "source": [
    "from __future__ import print_function\n",
    "import streamlit as st\n",
    "import collections\n",
    "import os\n",
    "import io\n",
    "import math\n",
    "import operator\n",
    "import sys\n",
    "import networkx as nx\n",
    "from preprocess import cleanText"
   ]
  },
  {
   "cell_type": "code",
   "execution_count": 2,
   "id": "a3a95b0b",
   "metadata": {},
   "outputs": [],
   "source": [
    "window = 10\n",
    "numberofSentences = 6\n",
    "nodeHash = {}\n",
    "textRank = {}\n",
    "sentenceDictionary = collections.defaultdict(dict)\n",
    "size = 0\n",
    "sentences = []\n"
   ]
  },
  {
   "cell_type": "code",
   "execution_count": 3,
   "id": "3c0fa33e",
   "metadata": {},
   "outputs": [],
   "source": [
    "def generatepositionaldistribution():\n",
    "    global nodeHash, sentenceDictionary, sentences, size\n",
    "    positional_dictionary = collections.defaultdict(dict)\n",
    "    count = 0\n",
    "    for i in sentenceDictionary.keys():\n",
    "        for j in range(0, len(sentenceDictionary[i])):\n",
    "            count += 1\n",
    "            position = float(count) / (float(size) + 1.0)\n",
    "            positional_dictionary[i][j] = 1.0 / \\\n",
    "                (math.pi * math.sqrt(position * (1 - position)))\n",
    "            word = sentenceDictionary[i][j]\n",
    "            if word in nodeHash:\n",
    "                if nodeHash[word] < positional_dictionary[i][j]:\n",
    "                    nodeHash[word] = positional_dictionary[i][j]\n",
    "            else:\n",
    "                nodeHash[word] = positional_dictionary[i][j]"
   ]
  },
  {
   "cell_type": "code",
   "execution_count": 4,
   "id": "60e8eb40",
   "metadata": {},
   "outputs": [],
   "source": [
    "def textrank():\n",
    "    '''\n",
    "        Generates a graph based ranking model for the tokens\n",
    "    :return: Keyphrases that are most relevant for generating the summary.\n",
    "    '''\n",
    "    global sentenceDictionary, nodeHash, textRank\n",
    "    graph = nx.Graph()\n",
    "    graph.add_nodes_from(nodeHash.keys())\n",
    "    for i in sentenceDictionary.keys():\n",
    "        for j in range(0, len(sentenceDictionary[i])):\n",
    "            current_word = sentenceDictionary[i][j]\n",
    "            next_words = sentenceDictionary[i][j + 1:j + window]\n",
    "            for word in next_words:\n",
    "                graph.add_edge(current_word, word, weight=(\n",
    "                    nodeHash[current_word] + nodeHash[word]) / 2)\n",
    "    textRank = nx.pagerank(graph, weight='weight')\n",
    "    keyphrases = sorted(textRank, key=textRank.get, reverse=True)[:n]\n",
    "    return keyphrases"
   ]
  },
  {
   "cell_type": "code",
   "execution_count": 62,
   "id": "6729152e",
   "metadata": {},
   "outputs": [],
   "source": [
    "def summarize(filepath, keyphrases, numberofSentences):\n",
    "    '''\n",
    "        Generates the summary and writes the summary to the file.\n",
    "    :param filePath: path of file to be used for summarization.\n",
    "    :param keyphrases: Extracted keyphrases\n",
    "    :param numberofSentences: Number of sentences needed as a summary\n",
    "    :output: Writes the summary to the file\n",
    "    '''\n",
    "    global textRank, sentenceDictionary, sentences\n",
    "    sentenceScore = {}\n",
    "    for i in sentenceDictionary.keys():\n",
    "        position = float(i + 1) / (float(len(sentences)) + 1.0)\n",
    "        if position <= 0.0 or position >= 1.0:\n",
    "            continue\n",
    "        try:\n",
    "            positionalFeatureWeight = 1.0 / \\\n",
    "                (math.pi * math.sqrt(position * (1.0 - position)))\n",
    "        except ValueError:\n",
    "            continue\n",
    "        sumKeyPhrases = 0.0\n",
    "        for keyphrase in keyphrases:\n",
    "            if keyphrase in sentenceDictionary[i]:\n",
    "                sumKeyPhrases += textRank[keyphrase]\n",
    "        sentenceScore[i] = sumKeyPhrases * positionalFeatureWeight\n",
    "    sortedSentenceScores = sorted(sentenceScore.items(\n",
    "    ), key=operator.itemgetter(1), reverse=True)[:numberofSentences]\n",
    "    sortedSentenceScores = sorted(\n",
    "        sortedSentenceScores, key=operator.itemgetter(0), reverse=False)\n",
    "    print(\"\\nSummary: \")\n",
    "    summary = []\n",
    "    arr = []\n",
    "    # for keyphrase in keyphrases:\n",
    "    #     print(keyphrase)\n",
    "    # print(keyphrases)\n",
    "\n",
    "    for i in range(0, len(sortedSentenceScores)):\n",
    "        arr.append(sentences[sortedSentenceScores[i][0]])\n",
    "    s = \"\".join(arr)\n",
    "    # print(s)\n",
    "    return (s)"
   ]
  },
  {
   "cell_type": "code",
   "execution_count": 63,
   "id": "341ed091",
   "metadata": {},
   "outputs": [],
   "source": [
    "text = \"D:\\Codes\\Final Project\\sample1.txt\""
   ]
  },
  {
   "cell_type": "code",
   "execution_count": 64,
   "id": "e6cedf37",
   "metadata": {},
   "outputs": [],
   "source": [
    "def process(arg1):\n",
    "    '''\n",
    "    :param arg1: path to the file containing the text to be summarized\n",
    "    :param arg2: Number of sentences to be extracted as summary\n",
    "    :param arg3: size of the window to be used in the co-occurance\n",
    "    '''\n",
    "    arg2 = 5\n",
    "    arg3 = 6\n",
    "    global window, n, numberofSentences, textRank, sentenceDictionary, size, sentences\n",
    "    if arg1 != None and arg2 != None and arg3 != None:\n",
    "        sentenceDictionary, sentences, size = cleanText(arg1)\n",
    "        window = int(arg3)\n",
    "        numberofSentences = int(arg2)\n",
    "        n = int(math.ceil(min(0.1 * size, 7 * math.log(size))))\n",
    "        generatepositionaldistribution()\n",
    "        keyphrases = textrank()\n",
    "        t = summarize(arg1, keyphrases, numberofSentences)\n",
    "        return (t)\n",
    "    else:\n",
    "        print(\"not enough parameters\")"
   ]
  },
  {
   "cell_type": "code",
   "execution_count": 65,
   "id": "bf54aede",
   "metadata": {},
   "outputs": [
    {
     "name": "stdout",
     "output_type": "stream",
     "text": [
      "\n",
      "Summary: \n"
     ]
    },
    {
     "data": {
      "text/plain": [
       "'ही तर साली आपल्या रस्त्याला राहणारी.रंडी साली वीकेंडला गांड मटकवत आणि बॉल मिरवत हिंडायची मॉलमध्ये.हिकडे साली बायको आपल्याला कंटाळून माहेरी गेली.जाताना खोदलेल्या खड्डयात घसरली नं साली.उचलायच्या, हात द्याच्या नावानं हितंतितं हात लावून घेतला सालीला!'"
      ]
     },
     "execution_count": 65,
     "metadata": {},
     "output_type": "execute_result"
    }
   ],
   "source": [
    "process(text)"
   ]
  },
  {
   "cell_type": "code",
   "execution_count": 52,
   "id": "fc88d3ba",
   "metadata": {},
   "outputs": [
    {
     "ename": "SyntaxError",
     "evalue": "invalid syntax (1737209423.py, line 1)",
     "output_type": "error",
     "traceback": [
      "\u001b[1;36m  Cell \u001b[1;32mIn[52], line 1\u001b[1;36m\u001b[0m\n\u001b[1;33m    ह्या पोरी साल्या अशाच. ती आधीच्या कंपनीतली पोरगी गुमान झोपली, पण मग सालीनं हरासमेंटची कंप्लेंट केली. आगोदरच पेपर टाकले होते म्हणून वाचलो.\u001b[0m\n\u001b[1;37m         ^\u001b[0m\n\u001b[1;31mSyntaxError\u001b[0m\u001b[1;31m:\u001b[0m invalid syntax\n"
     ]
    }
   ],
   "source": [
    "ह्या पोरी साल्या अशाच. ती आधीच्या कंपनीतली पोरगी गुमान झोपली, पण मग सालीनं हरासमेंटची कंप्लेंट केली. आगोदरच पेपर टाकले होते म्हणून वाचलो. \n",
    "मग साली लांब नोकरी धरली, वीस किलोमीटरवर. इथे लागलो तर टेसात टेस्ट लीड म्हणून. \n",
    "साल्या नव्या कोऱ्या पोरी आपल्याखाली - हा हा हा - हाताखाली काम करायला. मुद्दामून गावाकडून आलेल्या पोरी घ्यायच्या. \n",
    "रात्रीच्या शिफ्टला घ्यायच्या. नाय तर रात्री जास्त काम करायला म्हणून बसवून घ्यायच्या. आपली स्टायल तर अशी की, पोरी तं पार खल्लास होणार.\n",
    "\n"
   ]
  },
  {
   "cell_type": "code",
   "execution_count": null,
   "id": "2718b333",
   "metadata": {},
   "outputs": [],
   "source": []
  }
 ],
 "metadata": {
  "kernelspec": {
   "display_name": "Python 3 (ipykernel)",
   "language": "python",
   "name": "python3"
  },
  "language_info": {
   "codemirror_mode": {
    "name": "ipython",
    "version": 3
   },
   "file_extension": ".py",
   "mimetype": "text/x-python",
   "name": "python",
   "nbconvert_exporter": "python",
   "pygments_lexer": "ipython3",
   "version": "3.11.5"
  }
 },
 "nbformat": 4,
 "nbformat_minor": 5
}
